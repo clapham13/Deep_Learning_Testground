{
 "cells": [
  {
   "cell_type": "markdown",
   "metadata": {},
   "source": [
    "Attempting to solve the Multi-Armed Bandit problem"
   ]
  },
  {
   "cell_type": "code",
   "execution_count": 1,
   "metadata": {},
   "outputs": [],
   "source": [
    "import tensorflow as tf\n",
    "import numpy as np"
   ]
  },
  {
   "cell_type": "markdown",
   "metadata": {},
   "source": [
    "<h3>The Bandits</h3>\n",
    "Here we define our bandits. For this example we are using a four-armed bandit. The pullBandit function generates a random number from a normal distribution with a mean of 0. The lower the bandit number, the more likely a positive reward will be returned. We want our agent to learn to always choose the bandit that will give that positive reward."
   ]
  },
  {
   "cell_type": "code",
   "execution_count": 24,
   "metadata": {},
   "outputs": [],
   "source": [
    "b1 = round(5 * np.random.randn(), 2)\n",
    "b2 = round(5 * np.random.randn(), 2)\n",
    "b3 = round(5 * np.random.randn(), 2)\n",
    "b4 = round(5 * np.random.randn(), 2)\n",
    "\n",
    "bandits = [b1, b2, b3, b4]\n",
    "num_bandits = len(bandits)\n",
    "\n",
    "def pullBandit(bandit):\n",
    "    result = np.random.randn(1)\n",
    "    if result > bandit:\n",
    "        return 1\n",
    "    else:\n",
    "        return -1"
   ]
  },
  {
   "cell_type": "markdown",
   "metadata": {},
   "source": [
    "<h3>The Agent</h3>\n",
    "The code below established our simple neural agent. It consists of a set of values for each of the bandits. Each value is an estimate of the value of the return from choosing the bandit. We use a policy gradient method to update the agent by moving the value for the selected action toward the recieved reward."
   ]
  },
  {
   "cell_type": "code",
   "execution_count": 25,
   "metadata": {},
   "outputs": [],
   "source": [
    "tf.reset_default_graph()\n",
    "\n",
    "weights = tf.Variable(tf.ones([num_bandits]))\n",
    "chosen_action = tf.argmax(weights, 0)\n",
    "\n",
    "reward_holder = tf.placeholder(shape=[1], dtype=tf.float32)\n",
    "action_holder = tf.placeholder(shape=[1], dtype=tf.int32)\n",
    "responsible_weight = tf.slice(weights, action_holder, [1])\n",
    "loss = -(tf.log(responsible_weight) * reward_holder)\n",
    "optimizer = tf.train.GradientDescentOptimizer(learning_rate=0.001)\n",
    "update = optimizer.minimize(loss)"
   ]
  },
  {
   "cell_type": "markdown",
   "metadata": {},
   "source": [
    "<h3>Training the Agent</h3>\n",
    "We will train our agent by taking actions in our environment, and recieving rewards. Using the rewards and actions, we can know how to properly update our network in order to more often choose actions that will yield the highest rewards over time."
   ]
  },
  {
   "cell_type": "code",
   "execution_count": 27,
   "metadata": {},
   "outputs": [
    {
     "name": "stdout",
     "output_type": "stream",
     "text": [
      "Bandits: [2.49, -3.51, 7.6, 1.35]\n",
      "Running reward for the 4 bandits: [-1.  0.  0.  0.]\n",
      "Running reward for the 4 bandits: [-4. 43. -2. -2.]\n",
      "Running reward for the 4 bandits: [-4. 90. -2. -5.]\n",
      "Running reward for the 4 bandits: [ -6. 136.  -2.  -7.]\n",
      "Running reward for the 4 bandits: [-10. 180.  -3.  -8.]\n",
      "Running reward for the 4 bandits: [-11. 227.  -4.  -9.]\n",
      "Running reward for the 4 bandits: [-15. 271.  -4.  -9.]\n",
      "Running reward for the 4 bandits: [-15. 318.  -6. -10.]\n",
      "Running reward for the 4 bandits: [-15. 363.  -8. -13.]\n",
      "Running reward for the 4 bandits: [-16. 408. -10. -15.]\n",
      "Running reward for the 4 bandits: [-16. 454. -12. -17.]\n",
      "Running reward for the 4 bandits: [-19. 496. -17. -17.]\n",
      "Running reward for the 4 bandits: [-20. 541. -17. -21.]\n",
      "Running reward for the 4 bandits: [-22. 586. -19. -22.]\n",
      "Running reward for the 4 bandits: [-22. 634. -19. -24.]\n",
      "Running reward for the 4 bandits: [-23. 682. -20. -24.]\n",
      "Running reward for the 4 bandits: [-24. 730. -21. -24.]\n",
      "Running reward for the 4 bandits: [-26. 777. -21. -25.]\n",
      "Running reward for the 4 bandits: [-27. 824. -22. -26.]\n",
      "Running reward for the 4 bandits: [-28. 871. -23. -27.]\n",
      "The agent thinks bandit 2 is the most promising....\n",
      "...and it was right!\n"
     ]
    }
   ],
   "source": [
    "print(\"Bandits:\", bandits)\n",
    "\n",
    "total_episodes = 1000\n",
    "total_reward = np.zeros(num_bandits) #'scoreboard' for bandits\n",
    "e = 0.1 #chance of taking random action\n",
    "\n",
    "init = tf.global_variables_initializer()\n",
    "\n",
    "with tf.Session() as sess:\n",
    "\n",
    "    sess.run(init)\n",
    "\n",
    "    for i in range(total_episodes):\n",
    "        \n",
    "        if np.random.rand(1) < e: #for random action\n",
    "            action = np.random.randint(num_bandits)\n",
    "        else:\n",
    "            action = sess.run(chosen_action)\n",
    "        \n",
    "        # Get reward from chosen Bandit\n",
    "        reward = pullBandit(bandits[action])\n",
    "        \n",
    "        _, resp, ww = sess.run([update, responsible_weight, weights],\n",
    "                              feed_dict={reward_holder:[reward], action_holder:[action]})\n",
    "        \n",
    "        total_reward[action] += reward\n",
    "        \n",
    "        if i % 50 == 0:\n",
    "            print (\"Running reward for the \" + str(num_bandits) + \" bandits: \" + str(total_reward))\n",
    "        \n",
    "\n",
    "print (\"The agent thinks bandit \" + str(np.argmax(ww)+1) + \" is the most promising....\")\n",
    "if np.argmax(ww) == np.argmax(-np.array(bandits)):\n",
    "    print (\"...and it was right!\")\n",
    "else:\n",
    "    print (\"...and it was wrong!\")"
   ]
  }
 ],
 "metadata": {
  "kernelspec": {
   "display_name": "Python 3",
   "language": "python",
   "name": "python3"
  },
  "language_info": {
   "codemirror_mode": {
    "name": "ipython",
    "version": 3
   },
   "file_extension": ".py",
   "mimetype": "text/x-python",
   "name": "python",
   "nbconvert_exporter": "python",
   "pygments_lexer": "ipython3",
   "version": "3.6.4"
  }
 },
 "nbformat": 4,
 "nbformat_minor": 2
}
